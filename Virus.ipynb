{
 "cells": [
  {
   "cell_type": "code",
   "execution_count": 91,
   "metadata": {},
   "outputs": [],
   "source": [
    "import networkx as nx\n",
    "import numpy as np\n",
    "import matplotlib.pyplot as plt\n",
    "import random\n",
    "from copy import copy, deepcopy\n",
    "from operator import itemgetter"
   ]
  },
  {
   "cell_type": "code",
   "execution_count": 2,
   "metadata": {},
   "outputs": [],
   "source": [
    "g=nx.Graph()\n",
    "\n",
    "with open(\"static.network\") as file:\n",
    "    data = file.read().split('\\n')\n",
    "    #print(data[0])\n",
    "    for i in range(1,len(data)):\n",
    "        nodes=data[i].split(' ')\n",
    "        if len(nodes)==2:\n",
    "            g.add_edge(int(nodes[0]),int(nodes[1]))\n",
    "        \n",
    "#print(nx.number_of_nodes(g))\n",
    "total_node=nx.number_of_nodes(g)\n",
    "adj=[[0 for _ in range(total_node)] for _ in range(total_node)]\n",
    "#print (len(nx.edges(g)))\n",
    "for i in nx.edges(g):\n",
    "    adj[i[0]][i[1]]=1\n",
    "    adj[i[1]][i[0]]=1\n",
    "eigenvalue, eigenvector = np.linalg.eig(adj)\n",
    "#print(eigenvalue)\n",
    "#print(eigenvector)"
   ]
  },
  {
   "cell_type": "code",
   "execution_count": 3,
   "metadata": {},
   "outputs": [],
   "source": [
    "eig_set=[(eigenvalue[i],eigenvector[i]) for i in range(len(eigenvalue))]\n",
    "eig_set=sorted(eig_set,key=lambda x:x[0],reverse=1)"
   ]
  },
  {
   "cell_type": "code",
   "execution_count": 20,
   "metadata": {},
   "outputs": [
    {
     "name": "stdout",
     "output_type": "stream",
     "text": [
      "1\n"
     ]
    }
   ],
   "source": []
  },
  {
   "cell_type": "code",
   "execution_count": 4,
   "metadata": {},
   "outputs": [],
   "source": [
    "beta1=0.2\n",
    "beta2=0.01\n",
    "delta1=0.7\n",
    "delta2=0.6\n",
    "Cvpm1=beta1/delta1\n",
    "Cvpm2=beta2/delta2"
   ]
  },
  {
   "cell_type": "code",
   "execution_count": 5,
   "metadata": {},
   "outputs": [
    {
     "name": "stdout",
     "output_type": "stream",
     "text": [
      "12.529913074498449\n",
      "0.7309115960124094\n"
     ]
    }
   ],
   "source": [
    "largest_eigenvalue=eig_set[0][0].real\n",
    "\n",
    "#print(largest_eigenvalue)\n",
    "s1=largest_eigenvalue*Cvpm1\n",
    "print(s1)\n",
    "s2=largest_eigenvalue*Cvpm2\n",
    "print(s2)"
   ]
  },
  {
   "cell_type": "code",
   "execution_count": 6,
   "metadata": {},
   "outputs": [
    {
     "name": "stdout",
     "output_type": "stream",
     "text": [
      "0.016\n"
     ]
    },
    {
     "data": {
      "image/png": "[encoded data removed]",
      "text/plain": [
       "<Figure size 432x288 with 1 Axes>"
      ]
     },
     "metadata": {
      "needs_background": "light"
     },
     "output_type": "display_data"
    }
   ],
   "source": [
    "static_delta1=[]\n",
    "flag=0\n",
    "for i in range(1,1001):\n",
    "    tmp_beta=float(i)/1000\n",
    "    #print(tmp_beta)\n",
    "    tmp_Cvpm=tmp_beta/delta1\n",
    "    current=largest_eigenvalue*tmp_Cvpm\n",
    "    if current>1 and flag==0:\n",
    "        print (tmp_beta)\n",
    "        flag=1\n",
    "    static_delta1.append(current)\n",
    "    #print(largest_eigenvalue,tmp_Cvpm,current)\n",
    "#print(static_delta)\n",
    "threshold = np.array([1 for i in range(1000)])\n",
    "plt.plot(threshold, 'r--') \n",
    "plt.plot(static_delta1)\n",
    "\n",
    "plt.show()"
   ]
  },
  {
   "cell_type": "code",
   "execution_count": 7,
   "metadata": {},
   "outputs": [
    {
     "data": {
      "image/png": "[encoded data removed]",
      "text/plain": [
       "<Figure size 432x288 with 1 Axes>"
      ]
     },
     "metadata": {
      "needs_background": "light"
     },
     "output_type": "display_data"
    }
   ],
   "source": [
    "static_beta1=[]\n",
    "flag=0\n",
    "for i in range(1,1001):\n",
    "    tmp_delta=float(i)/1000\n",
    "    tmp_Cvpm=beta1/tmp_delta\n",
    "    current=largest_eigenvalue*tmp_Cvpm\n",
    "    if current<1 and flag==0:\n",
    "        print (tmp_delta)\n",
    "        flag=1\n",
    "    static_beta1.append(current)\n",
    "#print(static_beta1)\n",
    "threshold = np.array([1 for i in range(1000)])\n",
    "plt.plot(threshold, 'r--') \n",
    "plt.plot(static_beta1)\n",
    "plt.show()"
   ]
  },
  {
   "cell_type": "code",
   "execution_count": 8,
   "metadata": {},
   "outputs": [
    {
     "name": "stdout",
     "output_type": "stream",
     "text": [
      "0.014\n"
     ]
    },
    {
     "data": {
      "image/png": "[encoded data removed]",
      "text/plain": [
       "<Figure size 432x288 with 1 Axes>"
      ]
     },
     "metadata": {
      "needs_background": "light"
     },
     "output_type": "display_data"
    }
   ],
   "source": [
    "static_delta2=[]\n",
    "flag=0\n",
    "for i in range(1,1001):\n",
    "    tmp_beta=float(i)/1000\n",
    "    tmp_Cvpm=tmp_beta/delta2\n",
    "    current=largest_eigenvalue*tmp_Cvpm\n",
    "    if current>1 and flag==0:\n",
    "        print (tmp_beta)\n",
    "        flag=1\n",
    "    static_delta2.append(current)\n",
    "threshold = np.array([1 for i in range(1000)])\n",
    "plt.plot(threshold, 'r--') \n",
    "plt.plot(static_delta2)\n",
    "\n",
    "plt.show()"
   ]
  },
  {
   "cell_type": "code",
   "execution_count": 9,
   "metadata": {},
   "outputs": [
    {
     "name": "stdout",
     "output_type": "stream",
     "text": [
      "0.439\n"
     ]
    },
    {
     "data": {
      "image/png": "[encoded data removed]",
      "text/plain": [
       "<Figure size 432x288 with 1 Axes>"
      ]
     },
     "metadata": {
      "needs_background": "light"
     },
     "output_type": "display_data"
    }
   ],
   "source": [
    "static_beta2=[]\n",
    "flag=0\n",
    "for i in range(1,1001):\n",
    "    tmp_delta=float(i)/1000\n",
    "    \n",
    "    tmp_Cvpm=beta2/tmp_delta\n",
    "    current=largest_eigenvalue*tmp_Cvpm\n",
    "    #print(current,tmp_delta)\n",
    "    if current<1 and flag==0:\n",
    "        print (tmp_delta)\n",
    "        flag=1\n",
    "    static_beta2.append(current)\n",
    "\n",
    "threshold = np.array([1 for i in range(1000)])\n",
    "plt.plot(threshold, 'r--') \n",
    "plt.plot(static_beta2)\n",
    "plt.show()"
   ]
  },
  {
   "cell_type": "code",
   "execution_count": 10,
   "metadata": {},
   "outputs": [],
   "source": [
    "c=int(total_node/10)\n",
    "t=100\n",
    "def simulate(beta,delta,adj,t,c):\n",
    "    infect=[False for _ in range(total_node)]\n",
    "    infect_ind=[]\n",
    "    while len(infect_ind)<c:\n",
    "        r=random.randint(0, total_node-1)\n",
    "        if infect[r]==False:\n",
    "            infect[r]=True\n",
    "            infect_ind.append(r)\n",
    "\n",
    "    infect_num=[]\n",
    "    infect_num.append(len(infect_ind))\n",
    "\n",
    "    for i in range(t):\n",
    "        cur_infect=set()\n",
    "        cur_cure=[]\n",
    "        for inf in infect_ind:\n",
    "            #print(inf)\n",
    "            for j in range(len(adj[inf])):\n",
    "                if adj[inf][j]==1 and float(random.randint(1, 10))/10<beta:\n",
    "                    cur_infect.add(j)\n",
    "            if float(random.randint(1, 10))/10<delta:\n",
    "                cur_cure.append(inf)\n",
    "            else:\n",
    "                cur_infect.add(inf)\n",
    "        \n",
    "        for node in cur_cure:\n",
    "            infect[node]=False\n",
    "        for node in cur_infect:\n",
    "            infect[node]=True\n",
    "        infect_num.append(len(cur_infect))\n",
    "        infect_ind=cur_infect\n",
    "        #print(i,len(infect_ind))\n",
    "    return infect_num\n",
    "                "
   ]
  },
  {
   "cell_type": "code",
   "execution_count": 11,
   "metadata": {},
   "outputs": [
    {
     "data": {
      "image/png": "[encoded data removed]",
      "text/plain": [
       "<Figure size 432x288 with 1 Axes>"
      ]
     },
     "metadata": {
      "needs_background": "light"
     },
     "output_type": "display_data"
    }
   ],
   "source": [
    "\n",
    "first_series=[]\n",
    "for i in range(10):\n",
    "    res=simulate(beta1,delta1,adj,t,c)\n",
    "    first_series.append(res)\n",
    "first_series=np.array(first_series)\n",
    "first_series=np.mean(first_series, axis=0)\n",
    "#print(first_series)\n",
    "plt.plot(first_series)\n",
    "plt.show()\n"
   ]
  },
  {
   "cell_type": "code",
   "execution_count": 12,
   "metadata": {},
   "outputs": [
    {
     "data": {
      "image/png": "[encoded data removed]",
      "text/plain": [
       "<Figure size 432x288 with 1 Axes>"
      ]
     },
     "metadata": {
      "needs_background": "light"
     },
     "output_type": "display_data"
    }
   ],
   "source": [
    "second_series=[]\n",
    "for i in range(10):\n",
    "    res=simulate(beta2,delta2,adj,t,c)\n",
    "    second_series.append(res)\n",
    "second_series=np.array(second_series)\n",
    "second_series=np.mean(second_series, axis=0)\n",
    "#print(second_series)\n",
    "plt.plot(second_series)\n",
    "plt.show()"
   ]
  },
  {
   "cell_type": "code",
   "execution_count": 13,
   "metadata": {},
   "outputs": [],
   "source": [
    "def policyA(beta,delta,adj,t,c,k):\n",
    "    immun=set()\n",
    "    while len(immun)<k:\n",
    "        r=random.randint(0, total_node-1)\n",
    "        if r not in immun:\n",
    "            immun.add(r)\n",
    "    \n",
    "    \n",
    "    infect=[False for _ in range(total_node)]\n",
    "    infect_ind=[]\n",
    "    while len(infect_ind)<c:\n",
    "        r=random.randint(0, total_node-1)\n",
    "        if infect[r]==False and r not in immun:\n",
    "            infect[r]=True\n",
    "            infect_ind.append(r)\n",
    "\n",
    "    infect_num=[]\n",
    "    infect_num.append(len(infect_ind))\n",
    "    #print(set(infect_ind).intersection(immun))\n",
    "    #print(immun)\n",
    "    for i in range(t):\n",
    "        cur_infect=set()\n",
    "        cur_cure=[]\n",
    "        #print(set(infect_ind).intersection(immun))\n",
    "        for inf in infect_ind:\n",
    "            #print(inf)\n",
    "            for j in range(len(adj[inf])):\n",
    "                if adj[inf][j]==1 and float(random.randint(1, 10))/10<beta and j not in immun:\n",
    "                    cur_infect.add(j)\n",
    "            if float(random.randint(1, 10))/10<delta:\n",
    "                cur_cure.append(inf)\n",
    "            else:\n",
    "                cur_infect.add(inf)\n",
    "        \n",
    "        for node in cur_cure:\n",
    "            infect[node]=False\n",
    "        for node in cur_infect:\n",
    "            infect[node]=True\n",
    "        infect_num.append(len(cur_infect))\n",
    "        infect_ind=cur_infect\n",
    "        #print(i,len(infect_ind))\n",
    "    return infect_num\n",
    "    \n",
    "    "
   ]
  },
  {
   "cell_type": "code",
   "execution_count": 14,
   "metadata": {},
   "outputs": [
    {
     "name": "stdout",
     "output_type": "stream",
     "text": [
      "10.01557181057754\n"
     ]
    }
   ],
   "source": [
    "adjA=[[0 for _ in range(total_node)] for _ in range(total_node)]\n",
    "for i in nx.edges(g):\n",
    "    adjA[i[0]][i[1]]=1\n",
    "    adjA[i[1]][i[0]]=1\n",
    "    \n",
    "immun=set()\n",
    "while len(immun)<200:\n",
    "    r=random.randint(0, total_node-1)\n",
    "    if r not in immun:\n",
    "        immun.add(r)\n",
    "for node in immun:    \n",
    "    for i in range(len(adjA[node])):\n",
    "        adjA[node][i]=0\n",
    "        adjA[i][node]=0\n",
    "        \n",
    "eigenvalueA, eigenvectorA = np.linalg.eig(adjA)\n",
    "eig_setA=[(eigenvalueA[i],eigenvectorA[i]) for i in range(len(eigenvalueA))]\n",
    "eig_setA=sorted(eig_setA,key=lambda x:x[0],reverse=1)\n",
    "largest_eigenvalueA=eig_setA[0][0].real\n",
    "sA=largest_eigenvalueA*Cvpm1\n",
    "print(sA)"
   ]
  },
  {
   "cell_type": "code",
   "execution_count": 18,
   "metadata": {},
   "outputs": [
    {
     "data": {
      "image/png": "[encoded data removed]",
      "text/plain": [
       "<Figure size 432x288 with 1 Axes>"
      ]
     },
     "metadata": {
      "needs_background": "light"
     },
     "output_type": "display_data"
    }
   ],
   "source": [
    "\n",
    "def immunA(k,adj):\n",
    "    immun=set()\n",
    "    while len(immun)<k:\n",
    "        r=random.randint(0, total_node-1)\n",
    "        if r not in immun:\n",
    "            immun.add(r)\n",
    "    \n",
    "    for node in immun:    \n",
    "        for i in range(len(adj[node])):\n",
    "            adj[node][i]=0\n",
    "            adj[i][node]=0\n",
    "    return adj\n",
    "\n",
    "static_beta_delta_A=[]\n",
    "flag=0\n",
    "for i in range(200,1001,50):\n",
    "    tmp = deepcopy(adj)\n",
    "    new_adj=immunA(i,tmp)\n",
    "    val, vec = np.linalg.eig(new_adj)\n",
    "    e=[(val[i],vec[i]) for i in range(len(val))]\n",
    "    e=sorted(e,key=lambda x:x[0],reverse=1)\n",
    "    le=e[0][0].real\n",
    "    strength=le*Cvpm1\n",
    "    #print(strength)\n",
    "    if strength<1 and flag==0:\n",
    "        print (i)\n",
    "        flag=1\n",
    "        break\n",
    "    static_beta_delta_A.append(strength)\n",
    "\n",
    "threshold = np.array([1 for i in range(len(static_beta_delta_A))])\n",
    "plt.plot(threshold, 'r--') \n",
    "plt.plot(static_beta_delta_A)\n",
    "plt.show()"
   ]
  },
  {
   "cell_type": "code",
   "execution_count": 17,
   "metadata": {},
   "outputs": [
    {
     "data": {
      "image/png": "[encoded data removed]",
      "text/plain": [
       "<Figure size 432x288 with 1 Axes>"
      ]
     },
     "metadata": {
      "needs_background": "light"
     },
     "output_type": "display_data"
    }
   ],
   "source": [
    "policy_A=[]\n",
    "for i in range(10):\n",
    "    res=policyA(beta1,delta1,adj,t,c,200)\n",
    "    policy_A.append(res)\n",
    "policy_A=np.array(policy_A)\n",
    "policy_A=np.mean(policy_A, axis=0)\n",
    "#print(policy_A)\n",
    "plt.plot(policy_A)\n",
    "plt.show()"
   ]
  },
  {
   "cell_type": "code",
   "execution_count": 85,
   "metadata": {},
   "outputs": [],
   "source": [
    "def policyB(beta,delta,adj,t,c,k,g):\n",
    "    \n",
    "    infect=[False for _ in range(total_node)]\n",
    "    infect_ind=set()\n",
    "    while len(infect_ind)<c:\n",
    "        r=random.randint(0, total_node-1)\n",
    "        if infect[r]==False:\n",
    "            infect[r]=True\n",
    "            infect_ind.add(r)\n",
    "    \n",
    "    \n",
    "    \n",
    "    immun=set()\n",
    "    degree=sorted(list(g.degree()),key=lambda x:x[1],reverse=1)\n",
    "    for i in range(k):\n",
    "        immun.add(degree[i][0])\n",
    "    tmp_g=nx.Graph(g)\n",
    "    for i in immun:\n",
    "        tmp_g.remove_node(i)\n",
    "    \n",
    "    adjB=[[0 for _ in range(total_node)] for _ in range(total_node)]\n",
    "    for i in nx.edges(tmp_g):\n",
    "        adjB[i[0]][i[1]]=1\n",
    "        adjB[i[1]][i[0]]=1\n",
    "    for i in immun:\n",
    "        if i in infect_ind:\n",
    "            infect[i]=False\n",
    "            infect_ind.remove(i)\n",
    "    \n",
    "    \n",
    "\n",
    "    infect_num=[]\n",
    "    infect_num.append(len(infect_ind))\n",
    "    #print(set(infect_ind).intersection(immun))\n",
    "    #print(immun)\n",
    "    for i in range(t):\n",
    "        cur_infect=set()\n",
    "        cur_cure=set()\n",
    "        #print(set(infect_ind).intersection(immun))\n",
    "        for inf in infect_ind:\n",
    "            #print(inf)\n",
    "            for j in range(len(adj[inf])):\n",
    "                if adjB[inf][j]==1 and random.random()<beta and j not in immun:\n",
    "                    cur_infect.add(j)\n",
    "            if random.random()<delta:\n",
    "                cur_cure.add(inf)\n",
    "            else:\n",
    "                cur_infect.add(inf)\n",
    "        \n",
    "        for node in cur_cure:\n",
    "            infect[node]=False\n",
    "        for node in cur_infect:\n",
    "            infect[node]=True\n",
    "        infect_num.append(len(cur_infect))\n",
    "        infect_ind=cur_infect\n",
    "        #print(i,len(infect_ind))\n",
    "    return infect_num\n",
    "    \n",
    "    "
   ]
  },
  {
   "cell_type": "code",
   "execution_count": 71,
   "metadata": {},
   "outputs": [
    {
     "name": "stdout",
     "output_type": "stream",
     "text": [
      "1.0802754802352357\n"
     ]
    }
   ],
   "source": [
    "   \n",
    "immun=set()\n",
    "degree=sorted(list(g.degree()),key=lambda x:x[1],reverse=1)\n",
    "for i in range(200):\n",
    "    immun.add(degree[i][0])\n",
    "tmp_g=nx.Graph(g)\n",
    "for i in immun:\n",
    "    tmp_g.remove_node(i)\n",
    "\n",
    "adjB=[[0 for _ in range(total_node)] for _ in range(total_node)]\n",
    "for i in nx.edges(tmp_g):\n",
    "    adjB[i[0]][i[1]]=1\n",
    "    adjB[i[1]][i[0]]=1\n",
    "\n",
    "#print(len(nx.edges(tmp_g)))\n",
    "#print(sorted(list(tmp_g.degree()),key=lambda x:x[1],reverse=1))\n",
    "        \n",
    "eigenvalueB, eigenvectorB = np.linalg.eig(adjB)\n",
    "eig_setB=[(eigenvalueB[i],eigenvectorB[i]) for i in range(len(eigenvalueB))]\n",
    "eig_setB=sorted(eig_setB,key=lambda x:x[0],reverse=1)\n",
    "\n",
    "largest_eigenvalueB=eig_setB[0][0].real\n",
    "\n",
    "sB=largest_eigenvalueB*Cvpm1\n",
    "print(sB)"
   ]
  },
  {
   "cell_type": "code",
   "execution_count": 40,
   "metadata": {},
   "outputs": [
    {
     "name": "stdout",
     "output_type": "stream",
     "text": [
      "300\n"
     ]
    },
    {
     "data": {
      "image/png": "[encoded data removed]",
      "text/plain": [
       "<Figure size 432x288 with 1 Axes>"
      ]
     },
     "metadata": {
      "needs_background": "light"
     },
     "output_type": "display_data"
    }
   ],
   "source": [
    "def immunB(k,adj,g):\n",
    "    \n",
    "    immun=set()\n",
    "    degree=sorted(list(g.degree()),key=lambda x:x[1],reverse=1)\n",
    "    for i in range(k):\n",
    "        immun.add(degree[i][0])\n",
    "    \n",
    "    for node in immun:    \n",
    "        for i in range(len(adj[node])):\n",
    "            adj[node][i]=0\n",
    "            adj[i][node]=0\n",
    "    return adj\n",
    "\n",
    "static_beta_delta_B=[]\n",
    "flag=0\n",
    "for i in range(200,1001,50):\n",
    "    tmp = deepcopy(adj)\n",
    "    new_adj=immunB(i,tmp,g)\n",
    "    val, vec = np.linalg.eig(new_adj)\n",
    "    e=[(val[i],vec[i]) for i in range(len(val))]\n",
    "    e=sorted(e,key=lambda x:x[0],reverse=1)\n",
    "    le=e[0][0].real\n",
    "    strength=le*Cvpm1\n",
    "    #print(strength)\n",
    "    if strength<1 and flag==0:\n",
    "        print (i)\n",
    "        flag=1\n",
    "    static_beta_delta_B.append(strength)\n",
    "\n",
    "threshold = np.array([1 for i in range(len(static_beta_delta_B))])\n",
    "plt.plot(threshold, 'r--') \n",
    "plt.plot(static_beta_delta_B)\n",
    "plt.show()"
   ]
  },
  {
   "cell_type": "code",
   "execution_count": 86,
   "metadata": {},
   "outputs": [
    {
     "data": {
      "image/png": "[encoded data removed]",
      "text/plain": [
       "<Figure size 432x288 with 1 Axes>"
      ]
     },
     "metadata": {
      "needs_background": "light"
     },
     "output_type": "display_data"
    }
   ],
   "source": [
    "policy_B=[]\n",
    "for i in range(10):\n",
    "    res=policyB(beta1,delta1,adj,t,c,200,g)\n",
    "    policy_B.append(res)\n",
    "policy_B=np.array(policy_B)\n",
    "policy_B=np.mean(policy_B, axis=0)\n",
    "#print(policy_A)\n",
    "plt.plot(policy_B)\n",
    "plt.show()"
   ]
  },
  {
   "cell_type": "code",
   "execution_count": 75,
   "metadata": {},
   "outputs": [],
   "source": [
    "def policyC(beta,delta,adj,t,c,k,g):\n",
    "    immun=set()\n",
    "    while len(immun)<k:\n",
    "        degree=sorted(list(g.degree()),key=lambda x:x[1],reverse=1)\n",
    "        immun.add(degree[0][0])\n",
    "        g.remove_node(degree[0][0])\n",
    "        \n",
    "    \n",
    "    \n",
    "    infect=[False for _ in range(total_node)]\n",
    "    infect_ind=[]\n",
    "    while len(infect_ind)<c:\n",
    "        r=random.randint(0, total_node-1)\n",
    "        if infect[r]==False and r not in immun:\n",
    "            infect[r]=True\n",
    "            infect_ind.append(r)\n",
    "\n",
    "    infect_num=[]\n",
    "    infect_num.append(len(infect_ind))\n",
    "    #print(set(infect_ind).intersection(immun))\n",
    "    #print(immun)\n",
    "    for i in range(t):\n",
    "        cur_infect=set()\n",
    "        cur_cure=[]\n",
    "        #print(set(infect_ind).intersection(immun))\n",
    "        for inf in infect_ind:\n",
    "            #print(inf)\n",
    "            for j in range(len(adj[inf])):\n",
    "                if adj[inf][j]==1 and float(random.randint(1, 10))/10<beta and j not in immun:\n",
    "                    cur_infect.add(j)\n",
    "            if float(random.randint(1, 10))/10<delta:\n",
    "                cur_cure.append(inf)\n",
    "            else:\n",
    "                cur_infect.add(inf)\n",
    "        \n",
    "        for node in cur_cure:\n",
    "            infect[node]=False\n",
    "        for node in cur_infect:\n",
    "            infect[node]=True\n",
    "        infect_num.append(len(cur_infect))\n",
    "        infect_ind=cur_infect\n",
    "        #print(i,len(infect_ind))\n",
    "    return infect_num\n",
    "    "
   ]
  },
  {
   "cell_type": "code",
   "execution_count": 80,
   "metadata": {},
   "outputs": [
    {
     "name": "stdout",
     "output_type": "stream",
     "text": [
      "1.0845205395194293\n"
     ]
    }
   ],
   "source": [
    "tmp_g=nx.Graph(g)\n",
    "immun=set()\n",
    "while len(immun)<200:\n",
    "    degree=sorted(list(tmp_g.degree()),key=lambda x:x[1],reverse=1)\n",
    "    immun.add(degree[0][0])\n",
    "    tmp_g.remove_node(degree[0][0])\n",
    "\n",
    "\n",
    "\n",
    "adjC=[[0 for _ in range(total_node)] for _ in range(total_node)]\n",
    "for i in nx.edges(tmp_g):\n",
    "    adjC[i[0]][i[1]]=1\n",
    "    adjC[i[1]][i[0]]=1\n",
    "\n",
    "\n",
    "\n",
    "eigenvalueC, eigenvectorC = np.linalg.eig(adjC)\n",
    "eig_setC=[(eigenvalueC[i],eigenvectorC[i]) for i in range(len(eigenvalueC))]\n",
    "eig_setC=sorted(eig_setC,key=lambda x:x[0],reverse=1)\n",
    "\n",
    "largest_eigenvalueC=eig_setC[0][0].real\n",
    "\n",
    "sC=largest_eigenvalueC*Cvpm1\n",
    "print(sC)"
   ]
  },
  {
   "cell_type": "code",
   "execution_count": 74,
   "metadata": {},
   "outputs": [
    {
     "name": "stdout",
     "output_type": "stream",
     "text": [
      "240\n"
     ]
    },
    {
     "data": {
      "image/png": "[encoded data removed]",
      "text/plain": [
       "<Figure size 432x288 with 1 Axes>"
      ]
     },
     "metadata": {
      "needs_background": "light"
     },
     "output_type": "display_data"
    }
   ],
   "source": [
    "def immunC(k,adj,g):\n",
    "    immun=set()\n",
    "    tmp_g=nx.Graph(g)\n",
    "    while len(immun)<k:\n",
    "        degree=sorted(list(tmp_g.degree()),key=lambda x:x[1],reverse=1)\n",
    "        immun.add(degree[0][0])\n",
    "        tmp_g.remove_node(degree[0][0])\n",
    "    \n",
    "    adjC=[[0 for _ in range(total_node)] for _ in range(total_node)]\n",
    "    for i in nx.edges(tmp_g):\n",
    "        adjC[i[0]][i[1]]=1\n",
    "        adjC[i[1]][i[0]]=1\n",
    "    return adjC\n",
    "\n",
    "static_beta_delta_C=[]\n",
    "flag=0\n",
    "for i in range(50,1001,10):\n",
    "    tmp = deepcopy(adj)\n",
    "    new_adj=immunC(i,tmp,g)\n",
    "    val, vec = np.linalg.eig(new_adj)\n",
    "    e=[(val[i],vec[i]) for i in range(len(val))]\n",
    "    e=sorted(e,key=lambda x:x[0],reverse=1)\n",
    "    le=e[0][0].real\n",
    "    strength=le*Cvpm1\n",
    "    #print(strength)\n",
    "    if strength<1 and flag==0:\n",
    "        print (i)\n",
    "        flag=1\n",
    "    static_beta_delta_C.append(strength)\n",
    "\n",
    "threshold = np.array([1 for i in range(len(static_beta_delta_C))])\n",
    "plt.plot(threshold, 'r--') \n",
    "plt.plot(static_beta_delta_C)\n",
    "plt.show()"
   ]
  },
  {
   "cell_type": "code",
   "execution_count": 76,
   "metadata": {},
   "outputs": [
    {
     "data": {
      "image/png": "[encoded data removed]",
      "text/plain": [
       "<Figure size 432x288 with 1 Axes>"
      ]
     },
     "metadata": {
      "needs_background": "light"
     },
     "output_type": "display_data"
    }
   ],
   "source": [
    "policy_C=[]\n",
    "for i in range(10):\n",
    "    G = nx.Graph(g)\n",
    "    res=policyC(beta1,delta1,adj,t,c,200,G)\n",
    "    policy_C.append(res)\n",
    "policy_C=np.array(policy_C)\n",
    "policy_C=np.mean(policy_C, axis=0)\n",
    "#print(policy_A)\n",
    "plt.plot(policy_C)\n",
    "plt.show()"
   ]
  },
  {
   "cell_type": "code",
   "execution_count": 104,
   "metadata": {},
   "outputs": [],
   "source": [
    "def policyD(beta,delta,adj,t,c,k,g,immun):\n",
    "    \n",
    "    infect=[False for _ in range(total_node)]\n",
    "    infect_ind=set()\n",
    "    while len(infect_ind)<c:\n",
    "        r=random.randint(0, total_node-1)\n",
    "        if infect[r]==False:\n",
    "            infect[r]=True\n",
    "            infect_ind.add(r)\n",
    "    \n",
    "    \n",
    "    \n",
    "    \n",
    "    #print(len(immun),len(infect_ind))\n",
    "    immun=set(immun)\n",
    "    \n",
    "    for inode in immun:\n",
    "        if inode in infect_ind:\n",
    "            infect[inode]=False\n",
    "            infect_ind.remove(inode)\n",
    "        \n",
    "\n",
    "    \n",
    "\n",
    "    infect_num=[]\n",
    "    infect_num.append(len(infect_ind))\n",
    "    #print(set(infect_ind).intersection(immun))\n",
    "    #print(immun)\n",
    "    for i in range(t):\n",
    "        cur_infect=set()\n",
    "        cur_cure=set()\n",
    "        #print(set(infect_ind).intersection(immun))\n",
    "        for inf in infect_ind:\n",
    "            #print(inf)\n",
    "            for j in range(len(adj[inf])):\n",
    "                if adj[inf][j]==1 and random.random()<beta and j not in immun:\n",
    "                    cur_infect.add(j)\n",
    "            if random.random()<delta:\n",
    "                cur_cure.add(inf)\n",
    "            else:\n",
    "                cur_infect.add(inf)\n",
    "        \n",
    "        for node in cur_cure:\n",
    "            infect[node]=False\n",
    "        for node in cur_infect:\n",
    "            infect[node]=True\n",
    "        infect_num.append(len(cur_infect))\n",
    "        infect_ind=cur_infect\n",
    "        #print(i,len(infect_ind))\n",
    "    return infect_num\n",
    "    "
   ]
  },
  {
   "cell_type": "code",
   "execution_count": 110,
   "metadata": {},
   "outputs": [
    {
     "name": "stdout",
     "output_type": "stream",
     "text": [
      "5.034783672655396\n"
     ]
    }
   ],
   "source": [
    "val, vec = np.linalg.eig(adj)\n",
    "eig_set=[(val[i],vec[i]) for i in range(len(val))]\n",
    "eig_set=sorted(eig_set,key=lambda x:x[0],reverse=1)\n",
    "largest_vec=eig_set[0][1]\n",
    "largest_vec=np.absolute(largest_vec)\n",
    "immun = [u[0] for u in sorted(enumerate(largest_vec), reverse = True, key = itemgetter(1))[:200]]\n",
    "immun=set(immun)\n",
    "\n",
    "adjD=[[0 for _ in range(total_node)] for _ in range(total_node)]\n",
    "for i in nx.edges(g):\n",
    "    adjD[i[0]][i[1]]=1\n",
    "    adjD[i[1]][i[0]]=1\n",
    "for i in range(len(adjD)):\n",
    "    if i in immun:\n",
    "        for j in range(len(adjD[i])):\n",
    "            adjD[i][j]=0\n",
    "            adjD[j][i]=0\n",
    "        \n",
    "        \n",
    "               \n",
    "               \n",
    "\n",
    "\n",
    "eigenvalueD, eigenvectorD = np.linalg.eig(adjD)\n",
    "eig_setD=[(eigenvalueD[i],eigenvectorD[i]) for i in range(len(eigenvalueD))]\n",
    "eig_setD=sorted(eig_setD,key=lambda x:x[0],reverse=1)\n",
    "\n",
    "largest_eigenvalueD=eig_setD[0][0].real\n",
    "\n",
    "sD=largest_eigenvalueD*Cvpm1\n",
    "print(sD)"
   ]
  },
  {
   "cell_type": "code",
   "execution_count": 106,
   "metadata": {},
   "outputs": [],
   "source": [
    "def immunD(adj,k):\n",
    "    val, vec = np.linalg.eig(adj)\n",
    "    eig_set=[(val[i],vec[i]) for i in range(len(val))]\n",
    "    eig_set=sorted(eig_set,key=lambda x:x[0],reverse=1)\n",
    "    largest_vec=eig_set[0][1]\n",
    "    largest_vec=np.absolute(largest_vec)\n",
    "    immun = [u[0] for u in sorted(enumerate(largest_vec), reverse = True, key = itemgetter(1))[:k]]\n",
    "    return immun"
   ]
  },
  {
   "cell_type": "code",
   "execution_count": null,
   "metadata": {},
   "outputs": [],
   "source": []
  },
  {
   "cell_type": "code",
   "execution_count": 111,
   "metadata": {},
   "outputs": [
    {
     "data": {
      "image/png": "[encoded data removed]",
      "text/plain": [
       "<Figure size 432x288 with 1 Axes>"
      ]
     },
     "metadata": {
      "needs_background": "light"
     },
     "output_type": "display_data"
    }
   ],
   "source": [
    "val, vec = np.linalg.eig(adj)\n",
    "eig_set=[(val[i],vec[i]) for i in range(len(val))]\n",
    "eig_set=sorted(eig_set,key=lambda x:x[0],reverse=1)\n",
    "largest_vec=eig_set[0][1]\n",
    "largest_vec=np.absolute(largest_vec)\n",
    "\n",
    "def immuneD(k,adj,g,vec):\n",
    "    target=[u[0] for u in sorted(enumerate(vec), reverse = True, key = itemgetter(1))[:k]]\n",
    "    tmp_g=nx.Graph(g)\n",
    "    for i in target:\n",
    "        tmp_g.remove_node(i)\n",
    "    adjD=[[0 for _ in range(total_node)] for _ in range(total_node)]\n",
    "    for i in nx.edges(tmp_g):\n",
    "        adjD[i[0]][i[1]]=1\n",
    "        adjD[i[1]][i[0]]=1\n",
    "    return adjD\n",
    "\n",
    "\n",
    "\n",
    "static_beta_delta_D=[]\n",
    "flag=0\n",
    "for i in range(50,1001,50):\n",
    "    tmp = deepcopy(adj)\n",
    "    new_adj=immuneD(i,tmp,g,largest_vec)\n",
    "    val, vec = np.linalg.eig(new_adj)\n",
    "    e=[(val[i],vec[i]) for i in range(len(val))]\n",
    "    e=sorted(e,key=lambda x:x[0],reverse=1)\n",
    "    le=e[0][0].real\n",
    "    strength=le*Cvpm1\n",
    "    #print(strength)\n",
    "    if strength<1 and flag==0:\n",
    "        print (i)\n",
    "        flag=1\n",
    "    static_beta_delta_D.append(strength)\n",
    "\n",
    "threshold = np.array([1 for i in range(len(static_beta_delta_D))])\n",
    "plt.plot(threshold, 'r--') \n",
    "plt.plot(static_beta_delta_D)\n",
    "plt.show()"
   ]
  },
  {
   "cell_type": "code",
   "execution_count": 107,
   "metadata": {},
   "outputs": [
    {
     "data": {
      "image/png": "[encoded data removed]",
      "text/plain": [
       "<Figure size 432x288 with 1 Axes>"
      ]
     },
     "metadata": {
      "needs_background": "light"
     },
     "output_type": "display_data"
    }
   ],
   "source": [
    "policy_D=[]\n",
    "imd=immunD(adj,200)\n",
    "for i in range(10):\n",
    "    G = nx.Graph(g)\n",
    "    res=policyD(beta1,delta1,adj,t,c,200,G,imd)\n",
    "    policy_D.append(res)\n",
    "policy_D=np.array(policy_D)\n",
    "policy_D=np.mean(policy_D, axis=0)\n",
    "\n",
    "plt.plot(policy_D)\n",
    "plt.show()"
   ]
  },
  {
   "cell_type": "code",
   "execution_count": null,
   "metadata": {},
   "outputs": [],
   "source": []
  }
 ],
 "metadata": {
  "kernelspec": {
   "display_name": "Python 3",
   "language": "python",
   "name": "python3"
  },
  "language_info": {
   "codemirror_mode": {
    "name": "ipython",
    "version": 3
   },
   "file_extension": ".py",
   "mimetype": "text/x-python",
   "name": "python",
   "nbconvert_exporter": "python",
   "pygments_lexer": "ipython3",
   "version": "3.7.4"
  }
 },
 "nbformat": 4,
 "nbformat_minor": 2
}
